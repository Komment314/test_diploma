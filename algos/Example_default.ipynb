{
 "cells": [
  {
   "cell_type": "code",
   "execution_count": null,
   "metadata": {},
   "outputs": [],
   "source": [
    "import sys\n",
    "import os\n",
    "\n",
    "import numpy as np\n",
    "np.set_printoptions(suppress=True, precision=3)\n",
    "\n",
    "# local .py files\n",
    "sys.path.append(os.path.abspath(os.path.join('..', 'basics')))\n",
    "from SceneUR10 import SceneUR10\n",
    "from Calcs import get_default_path, upsize_path\n",
    "from Set_scene import set_scene\n",
    "\n",
    "from Informed_rrt_star import create_informed_rrt_star"
   ]
  },
  {
   "cell_type": "code",
   "execution_count": null,
   "metadata": {},
   "outputs": [],
   "source": [
    "scene, targets = set_scene(SceneUR10)\n",
    "\n",
    "start = np.array(scene.j_init)\n",
    "n_goals = 50\n",
    "scene.set_target(targets[2])\n",
    "goals = np.array([scene.get_ik() for _ in range(n_goals)])"
   ]
  },
  {
   "cell_type": "code",
   "execution_count": null,
   "metadata": {},
   "outputs": [],
   "source": [
    "\n",
    "rrt_informed_nodes, n_iters, result, goal_index = create_informed_rrt_star(scene, start, goals, scene.delta, scene.delta * 20, 1000, 0.25)\n",
    "\n",
    "if result == True:\n",
    "    print(f'Nodes created: {len(rrt_informed_nodes) - 1} / {n_iters} iterations')\n",
    "    print(f'Cost = {round(rrt_informed_nodes[goal_index].get_cost(), 3)}')"
   ]
  },
  {
   "cell_type": "code",
   "execution_count": null,
   "metadata": {},
   "outputs": [],
   "source": [
    "if result == True:\n",
    "    rrt_path = get_default_path(rrt_informed_nodes, goal_index)\n",
    "    ups_rrt_path = upsize_path(rrt_path, scene.delta * 0.5)\n",
    "    scene.vis_path(ups_rrt_path, 0.7)"
   ]
  }
 ],
 "metadata": {
  "kernelspec": {
   "display_name": "Python 3",
   "language": "python",
   "name": "python3"
  },
  "language_info": {
   "codemirror_mode": {
    "name": "ipython",
    "version": 3
   },
   "file_extension": ".py",
   "mimetype": "text/x-python",
   "name": "python",
   "nbconvert_exporter": "python",
   "pygments_lexer": "ipython3",
   "version": "3.11.5"
  }
 },
 "nbformat": 4,
 "nbformat_minor": 2
}
