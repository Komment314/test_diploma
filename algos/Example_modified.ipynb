{
 "cells": [
  {
   "cell_type": "code",
   "execution_count": null,
   "metadata": {},
   "outputs": [],
   "source": [
    "import sys\n",
    "import os\n",
    "import numpy as np\n",
    "\n",
    "from coppeliasim_zmqremoteapi_client import RemoteAPIClient\n",
    "\n",
    "# local .py files\n",
    "sys.path.append(os.path.abspath(os.path.join('..', 'basics')))\n",
    "from SceneUR10 import SceneUR10WithObs\n",
    "from Calcs import get_default_path, upsize_path\n",
    "from Set_scene import set_scene\n",
    "from Opt_informed_rrt_star import create_opt_informed_rrt_star\n",
    "\n",
    "np.set_printoptions(suppress=True, precision=3)"
   ]
  },
  {
   "cell_type": "code",
   "execution_count": null,
   "metadata": {},
   "outputs": [],
   "source": [
    "scene, targets = set_scene(SceneUR10WithObs)\n",
    "\n",
    "start = np.array(scene.j_init)\n",
    "n_goals = 50\n",
    "scene.set_target(targets[2])\n",
    "goals = np.array([scene.get_ik() for _ in range(n_goals)])"
   ]
  },
  {
   "cell_type": "code",
   "execution_count": null,
   "metadata": {},
   "outputs": [],
   "source": [
    "rrt_informed_nodes, n_iters, result, goal_index, best_opt_path, c_best_for_sampling = create_opt_informed_rrt_star(scene, start, goals, scene.delta, scene.delta * 20, scene.obs_collection, 1000, 0.20)"
   ]
  },
  {
   "cell_type": "code",
   "execution_count": null,
   "metadata": {},
   "outputs": [],
   "source": [
    "if result == True:\n",
    "    rrt_path = get_default_path(rrt_informed_nodes, goal_index)\n",
    "    ups_rrt_path = upsize_path(rrt_path, scene.delta * 0.5)\n",
    "    scene.vis_path(ups_rrt_path, 0.7)"
   ]
  },
  {
   "cell_type": "code",
   "execution_count": null,
   "metadata": {},
   "outputs": [],
   "source": [
    "if result == True:\n",
    "    ups_best_opt_path = upsize_path(np.vstack([start, best_opt_path, rrt_informed_nodes[goal_index].get_joints()]), scene.delta * 0.5)\n",
    "    scene.vis_path(ups_best_opt_path, 0.7)"
   ]
  }
 ],
 "metadata": {
  "kernelspec": {
   "display_name": "Python 3",
   "language": "python",
   "name": "python3"
  },
  "language_info": {
   "codemirror_mode": {
    "name": "ipython",
    "version": 3
   },
   "file_extension": ".py",
   "mimetype": "text/x-python",
   "name": "python",
   "nbconvert_exporter": "python",
   "pygments_lexer": "ipython3",
   "version": "3.11.5"
  }
 },
 "nbformat": 4,
 "nbformat_minor": 2
}
