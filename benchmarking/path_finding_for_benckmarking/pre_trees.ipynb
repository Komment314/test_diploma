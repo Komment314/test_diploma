{
 "cells": [
  {
   "cell_type": "code",
   "execution_count": null,
   "metadata": {},
   "outputs": [],
   "source": [
    "import sys\n",
    "import os\n",
    "import time\n",
    "import numpy as np\n",
    "np.set_printoptions(suppress=True, precision=3)\n",
    "\n",
    "# local .py files\n",
    "sys.path.append(os.path.abspath(os.path.join('..', 'basics')))\n",
    "from SceneUR10 import SceneUR10WithObs\n",
    "from Calcs import get_default_path, upsize_path\n",
    "from Set_scene import set_scene\n",
    "\n",
    "from Pre_rrt_star import pre_rrt_star"
   ]
  },
  {
   "cell_type": "code",
   "execution_count": null,
   "metadata": {},
   "outputs": [],
   "source": [
    "scene, targets = set_scene(SceneUR10WithObs)"
   ]
  },
  {
   "cell_type": "code",
   "execution_count": null,
   "metadata": {},
   "outputs": [],
   "source": [
    "import pandas as pd\n",
    "import json\n",
    "\n",
    "def save_nodes(nodes_list: list, filename: str):\n",
    "    nodes_list_to_csv = []\n",
    "    nodes_list_to_csv.append([0, *nodes_list[0].joints, -1, 0])\n",
    "\n",
    "    for i in range(1, len(nodes_list)):\n",
    "        current_node = nodes_list[i]\n",
    "        nodes_list_to_csv.append([current_node.id, *current_node.joints, current_node.parent.id, current_node.cost])\n",
    "\n",
    "    columns = ['id', 'joint_1', 'joint_2', 'joint_3', 'joint_4', 'joint_5', 'joint_6', 'parent_id', 'cost']\n",
    "    df = pd.DataFrame(nodes_list_to_csv, columns=columns)\n",
    "    df.to_csv(filename + '.csv', header=True, sep=';', index=False)\n",
    "\n",
    "def save_list(list_to_save: list, filename: str):\n",
    "    with open(filename, \"w\") as fp:\n",
    "        json.dump(list_to_save, fp)\n",
    "\n",
    "def open_list(filename: str):\n",
    "    with open(filename, \"r\") as fp:\n",
    "        obstacles = json.load(fp)\n",
    "    return obstacles"
   ]
  },
  {
   "cell_type": "code",
   "execution_count": null,
   "metadata": {},
   "outputs": [],
   "source": [
    "start = np.array([0, 0, 0, 0, 0, 0])\n",
    "scene.set_joints()\n",
    "\n",
    "n_paths_per_target = 5\n",
    "n_goals_for_path = 100\n",
    "dir_name = 'pre_rrt_star_results'\n",
    "\n",
    "current_target = 0\n",
    "\n",
    "for target_index in range(len(targets)):\n",
    "    target = targets[target_index]\n",
    "    scene.set_target(target)\n",
    "    for path_index in range(n_paths_per_target):\n",
    "        initial_rrt_star_result = False\n",
    "        while not initial_rrt_star_result == True:\n",
    "            scene.clear_obs()\n",
    "            goals = [scene.get_ik() for _ in range(n_goals_for_path)]\n",
    "            scene.set_joints()\n",
    "\n",
    "            begin_rrt_star_time = time.time()\n",
    "            initial_rrt_star_nodes, initial_rrt_star_result, initial_rrt_star_goal_index = pre_rrt_star(scene, start, goals, scene.delta, scene.delta * 20, 3000, goal_bias_prob=0.3)\n",
    "            end_rrt_star_time = time.time()\n",
    "        \n",
    "        rrt_star_time = end_rrt_star_time - begin_rrt_star_time\n",
    "        rrt_star_n_nodes = len(initial_rrt_star_nodes)\n",
    "        stats_for_current_path = [rrt_star_time, rrt_star_n_nodes, scene.c_obs]\n",
    "        print(f'{target_index + 1}_{path_index + 1}')\n",
    "\n",
    "        full_tree_name = dir_name + '/' + str(target_index + 1) + '_' + str(path_index + 1) + '_tree'\n",
    "        full_stats_name = dir_name + '/' + str(target_index + 1) + '_' + str(path_index + 1) + '_stats'\n",
    "\n",
    "        save_nodes(initial_rrt_star_nodes, full_tree_name)\n",
    "        save_list(stats_for_current_path, full_stats_name)\n"
   ]
  }
 ],
 "metadata": {
  "kernelspec": {
   "display_name": "Python 3",
   "language": "python",
   "name": "python3"
  },
  "language_info": {
   "codemirror_mode": {
    "name": "ipython",
    "version": 3
   },
   "file_extension": ".py",
   "mimetype": "text/x-python",
   "name": "python",
   "nbconvert_exporter": "python",
   "pygments_lexer": "ipython3",
   "version": "3.11.5"
  }
 },
 "nbformat": 4,
 "nbformat_minor": 2
}
