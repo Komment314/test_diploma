{
 "cells": [
  {
   "cell_type": "code",
   "execution_count": null,
   "metadata": {},
   "outputs": [],
   "source": [
    "import sys\n",
    "import os\n",
    "import pandas as pd\n",
    "import json\n",
    "import matplotlib.pyplot as plt\n",
    "from IPython.display import clear_output\n",
    "\n",
    "import numpy as np\n",
    "np.set_printoptions(suppress=True, precision=3)\n",
    "\n",
    "from coppeliasim_zmqremoteapi_client import RemoteAPIClient\n",
    "\n",
    "# local .py files\n",
    "sys.path.append(os.path.abspath(os.path.join('..', 'basics')))\n",
    "from SceneUR10 import SceneUR10WithObs\n",
    "from Calcs import get_default_path, upsize_path\n",
    "from Set_scene import set_scene\n",
    "from Node import Node\n",
    "\n",
    "from Informed_rrt_star import create_informed_rrt_star\n",
    "from Opt_informed_rrt_star import create_opt_informed_rrt_star"
   ]
  },
  {
   "cell_type": "code",
   "execution_count": null,
   "metadata": {},
   "outputs": [],
   "source": [
    "scene, targets = set_scene(SceneUR10WithObs)"
   ]
  },
  {
   "cell_type": "code",
   "execution_count": null,
   "metadata": {},
   "outputs": [],
   "source": [
    "def read_nodes(path: str):\n",
    "    df_readed = pd.read_csv(path, sep=';')\n",
    "    new_nodes = []\n",
    "    for _, current_row in df_readed.iterrows():\n",
    "        new_nodes.append(Node(int(current_row['id']), np.array(current_row['joint_1':'joint_6']), int(current_row['parent_id']), current_row['cost']))\n",
    "    new_nodes[0].parent = None\n",
    "    for i in range(1, len(new_nodes)):\n",
    "        new_nodes[i].parent = new_nodes[new_nodes[i].parent]\n",
    "    return new_nodes\n",
    "\n",
    "def open_list(filename: str):\n",
    "    with open(filename, \"r\") as fp:\n",
    "        obstacles = json.load(fp)\n",
    "    return obstacles\n",
    "\n",
    "def show_stats(target_index, path_index, test_index, default_stats, modified_stats):\n",
    "    fig, (ax1, ax2) = plt.subplots(1, 2, figsize=(10, 6))\n",
    "    fig.suptitle(f'Target {target_index+1}, path {path_index+1}, test {test_index+1}')\n",
    "    ax1.plot(default_stats[:, 0], default_stats[:, 2], color='r')\n",
    "    ax2.plot(default_stats[:, 1], default_stats[:, 2], color='r')\n",
    "\n",
    "    ax1.plot(modified_stats[:, 0], modified_stats[:, 2], color='g')\n",
    "    ax2.plot(modified_stats[:, 1], modified_stats[:, 2], color='g')\n",
    "    ax1.set_title('Iters')\n",
    "    ax2.set_title('Time')\n",
    "    plt.show()"
   ]
  },
  {
   "cell_type": "code",
   "execution_count": null,
   "metadata": {},
   "outputs": [],
   "source": [
    "# target --> path --> n_tests --> (maxiters, maxtime)\n",
    "\n",
    "n_paths_per_target = 5\n",
    "n_tests_per_path = 20\n",
    "\n",
    "max_iters = 1000\n",
    "max_time = 120\n",
    "\n",
    "# completed 3, 6, 2, 8, 10, 4, 1, 9, 7, 0\n",
    "# in process 5 (2/5), 11(3/5)\n",
    "# in queue\n",
    "current_target_indexes = [5]\n",
    "\n",
    "for target_index in current_target_indexes:\n",
    "    # 1) setting variables\n",
    "    target = targets[target_index]\n",
    "    scene.set_joints()\n",
    "    scene.set_target(target)\n",
    "    start = np.array(scene.j_init)\n",
    "\n",
    "    # 2) loading initial path\n",
    "    for path_index in n_paths_per_target:\n",
    "        rrt_star_nodes = read_nodes(f'path_finding_for_benckmarking/pre_rrt_star_results/{target_index+1}_{path_index+1}_tree.csv')\n",
    "        pre_rrt_star_stats = open_list(f'path_finding_for_benckmarking/pre_rrt_star_results/{target_index+1}_{path_index+1}_stats')\n",
    "\n",
    "        for test_index in range(n_tests_per_path):\n",
    "            scene.clear_obs()\n",
    "            # 3) Default Informed-RRT*\n",
    "            default_nodes, default_goal_index, default_stats = create_informed_rrt_star(scene, start, rrt_star_nodes, scene.delta, scene.delta * 20, max_iters, max_time)\n",
    "            # np.save(f'benchmarking_stats/default/{target_index+1}_{path_index+1}_{test_index+1}.npy', default_stats)\n",
    "            show_stats(target_index, path_index, test_index, default_stats, np.empty((1, 3)))\n",
    "            clear_output(wait=True)\n",
    "\n",
    "            scene.set_obs(pre_rrt_star_stats[2])\n",
    "            # 4) Modified Informed-RRT* + Optimization\n",
    "            modified_nodes, modified_goal_index, modified_best_opt_path, modified_stats = create_opt_informed_rrt_star(scene, start, rrt_star_nodes, scene.delta, scene.delta * 20, max_iters, max_time)\n",
    "            # np.save(f'benchmarking_stats/modified/{target_index+1}_{path_index+1}_{test_index+1}.npy', modified_stats)\n",
    "            show_stats(target_index, path_index, test_index, default_stats, modified_stats)\n",
    "            clear_output(wait=True)\n"
   ]
  }
 ],
 "metadata": {
  "kernelspec": {
   "display_name": "Python 3",
   "language": "python",
   "name": "python3"
  },
  "language_info": {
   "codemirror_mode": {
    "name": "ipython",
    "version": 3
   },
   "file_extension": ".py",
   "mimetype": "text/x-python",
   "name": "python",
   "nbconvert_exporter": "python",
   "pygments_lexer": "ipython3",
   "version": "3.11.5"
  }
 },
 "nbformat": 4,
 "nbformat_minor": 2
}
